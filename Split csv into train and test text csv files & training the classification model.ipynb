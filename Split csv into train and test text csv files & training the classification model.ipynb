{
 "cells": [
  {
   "cell_type": "markdown",
   "id": "cd521acc",
   "metadata": {},
   "source": [
    "## Installations"
   ]
  },
  {
   "cell_type": "code",
   "execution_count": null,
   "id": "352a98fa",
   "metadata": {},
   "outputs": [],
   "source": [
    "!pip install pandas\n",
    "!pip install scikit-plot"
   ]
  },
  {
   "cell_type": "markdown",
   "id": "d0b95daf",
   "metadata": {},
   "source": [
    "## Import Libraries"
   ]
  },
  {
   "cell_type": "code",
   "execution_count": null,
   "id": "ce73b174",
   "metadata": {},
   "outputs": [],
   "source": [
    "import numpy as np\n",
    "import pandas as pd\n",
    "\n",
    "from sklearn.model_selection import train_test_split\n",
    "from sklearn.feature_extraction.text import CountVectorizer\n",
    "from sklearn.naive_bayes import MultinomialNB\n",
    "from sklearn.pipeline import make_pipeline\n",
    "from sklearn.metrics import accuracy_score\n",
    "from sklearn.ensemble import RandomForestClassifier\n",
    "from sklearn import svm\n",
    "from sklearn.svm import SVC\n",
    "import scikitplot\n",
    "from imblearn.over_sampling import SMOTE"
   ]
  },
  {
   "cell_type": "markdown",
   "id": "22072ed4",
   "metadata": {},
   "source": [
    "## Read & Split csv file"
   ]
  },
  {
   "cell_type": "code",
   "execution_count": null,
   "id": "4b316463",
   "metadata": {},
   "outputs": [],
   "source": [
    "email_texts = pd.read_csv(\"enter your csv\")"
   ]
  },
  {
   "cell_type": "code",
   "execution_count": null,
   "id": "6f3281ef",
   "metadata": {},
   "outputs": [],
   "source": [
    "train_email_texts, test_email_texts = train_test_split(email_texts, test_size=0.3, random_state=42)\n",
    "\n",
    "train_email_texts.to_csv('train.csv', index=False)\n",
    "test_email_texts.to_csv(\"test.csv\", index=False) "
   ]
  },
  {
   "cell_type": "markdown",
   "id": "99df8a68",
   "metadata": {},
   "source": [
    "## Classification model train"
   ]
  },
  {
   "cell_type": "code",
   "execution_count": null,
   "id": "7217d67f",
   "metadata": {},
   "outputs": [],
   "source": [
    "#extract the text for both training and testing\n",
    "X_train_text = train_email_texts[\"MESSAGE\"]\n",
    "X_test_text = test_email_texts[\"MESSAGE\"]\n",
    "\n",
    "#extract the category for both training and testing\n",
    "Y_train = train_email_texts[\"CATEGORY\"]\n",
    "Y_test = test_email_texts[\"CATEGORY\"]"
   ]
  },
  {
   "cell_type": "markdown",
   "id": "24ab1034",
   "metadata": {},
   "source": [
    "## CountVectorizer"
   ]
  },
  {
   "cell_type": "code",
   "execution_count": null,
   "id": "b9dfd24d",
   "metadata": {},
   "outputs": [],
   "source": [
    "vectorizer_v1 = CountVectorizer(min_df=10, stop_words='english')\n",
    "vectorizer_v1.fit(X_train_text)\n",
    "X_train_v1 = vectorizer_v1.transform(X_train_text)\n",
    "X_train_v1_dense=pd.DataFrame(X_train_v1.toarray(), columns=vectorizer_v1.get_feature_names_out())"
   ]
  },
  {
   "cell_type": "code",
   "execution_count": null,
   "id": "31955514",
   "metadata": {},
   "outputs": [],
   "source": [
    "models_list = list()"
   ]
  },
  {
   "cell_type": "markdown",
   "id": "62ba280d",
   "metadata": {},
   "source": [
    "## Naive Bayes Model"
   ]
  },
  {
   "cell_type": "code",
   "execution_count": null,
   "id": "ba50d5ee",
   "metadata": {},
   "outputs": [],
   "source": [
    "nb_model = MultinomialNB() # A Naive Bayes Classifier.\n",
    "nb_model.fit(X_train_v1_dense, Y_train)\n",
    "\n",
    "models_list.append([nb_model, \"nb_model\"])"
   ]
  },
  {
   "cell_type": "markdown",
   "id": "635c7a36",
   "metadata": {},
   "source": [
    "## Random Forest Model"
   ]
  },
  {
   "cell_type": "code",
   "execution_count": null,
   "id": "d363200c",
   "metadata": {},
   "outputs": [],
   "source": [
    "rf_model = RandomForestClassifier()\n",
    "rf_model.fit(X_train_v1_dense, Y_train)\n",
    "\n",
    "models_list.append([rf_model, \"rf_model\"])"
   ]
  },
  {
   "cell_type": "markdown",
   "id": "02ef122d",
   "metadata": {},
   "source": [
    "## Smote oversampling"
   ]
  },
  {
   "cell_type": "code",
   "execution_count": null,
   "id": "02f089bf",
   "metadata": {},
   "outputs": [],
   "source": [
    "sm = SMOTE(random_state=42)\n",
    "X_train_v1_dense_sm, Y_train_sm = sm.fit_resample(X_train_v1_dense, Y_train)"
   ]
  },
  {
   "cell_type": "markdown",
   "id": "94be39fe",
   "metadata": {},
   "source": [
    "## Naive Bayes Model with SMOTE oversampling"
   ]
  },
  {
   "cell_type": "code",
   "execution_count": null,
   "id": "5e3b77e9",
   "metadata": {},
   "outputs": [],
   "source": [
    "nb_smote_model = MultinomialNB() # A Naive Bayes Classifier.\n",
    "nb_smote_model.fit(X_train_v1_dense_sm, Y_train_sm)\n",
    "\n",
    "models_list.append([nb_smote_model, \"nb_smote_model\"])"
   ]
  },
  {
   "cell_type": "markdown",
   "id": "ec54556b",
   "metadata": {},
   "source": [
    "## Random Forest Model with SMOTE oversampling"
   ]
  },
  {
   "cell_type": "code",
   "execution_count": null,
   "id": "e14e4b91",
   "metadata": {},
   "outputs": [],
   "source": [
    "rf_smote_model = RandomForestClassifier()\n",
    "rf_smote_model.fit(X_train_v1_dense_sm, Y_train_sm)\n",
    "\n",
    "models_list.append([rf_smote_model, \"rf_smote_model\"])"
   ]
  },
  {
   "cell_type": "markdown",
   "id": "5e15fae6",
   "metadata": {},
   "source": [
    "## Predictions"
   ]
  },
  {
   "cell_type": "code",
   "execution_count": null,
   "id": "ac945667",
   "metadata": {},
   "outputs": [],
   "source": [
    "class_names=['spam','non spam']"
   ]
  },
  {
   "cell_type": "code",
   "execution_count": null,
   "id": "214df1cf",
   "metadata": {},
   "outputs": [],
   "source": [
    "print(\"Accuracy Scores\")\n",
    "for model, model_name in models_list:\n",
    "    prediction_pipeline_v1 = make_pipeline(vectorizer_v1, model)\n",
    "    predictions_v1 = prediction_pipeline_v1.predict(X_test_text)\n",
    "    acc = accuracy_score(Y_test, predictions_v1)\n",
    "    print(model_name, \"->\", acc)\n",
    "    \n",
    "    scikitplot.metrics.plot_confusion_matrix([class_names[i] for i in Y_test], # actual labels\n",
    "                                    [class_names[i] for i in predictions_v1], # predicted labels \n",
    "                                    title=\"Confusion Matrix \" + model_name, # title to tuse \n",
    "                                    cmap=\"Purples\", # color palette to use \n",
    "                                    figsize=(5,5) # figure size \n",
    "                                    )"
   ]
  }
 ],
 "metadata": {
  "kernelspec": {
   "display_name": "Python 3 (ipykernel)",
   "language": "python",
   "name": "python3"
  },
  "language_info": {
   "codemirror_mode": {
    "name": "ipython",
    "version": 3
   },
   "file_extension": ".py",
   "mimetype": "text/x-python",
   "name": "python",
   "nbconvert_exporter": "python",
   "pygments_lexer": "ipython3",
   "version": "3.9.13"
  }
 },
 "nbformat": 4,
 "nbformat_minor": 5
}
